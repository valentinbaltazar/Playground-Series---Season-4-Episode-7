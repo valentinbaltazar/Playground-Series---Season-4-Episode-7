{
 "cells": [
  {
   "cell_type": "code",
   "execution_count": 2,
   "id": "005236c2-9693-4930-b2a3-5f8406f0d29a",
   "metadata": {},
   "outputs": [
    {
     "name": "stderr",
     "output_type": "stream",
     "text": [
      "C:\\Anaconda3\\envs\\py3.9\\lib\\site-packages\\pandas\\core\\arrays\\masked.py:60: UserWarning: Pandas requires version '1.3.6' or newer of 'bottleneck' (version '1.3.5' currently installed).\n",
      "  from pandas.core import (\n"
     ]
    }
   ],
   "source": [
    "# Reduce data size GB --> MB\n",
    "import pandas as pd\n",
    "import numpy as np\n",
    "\n",
    "\n",
    "# Synthetic dataset\n",
    "train = pd.read_csv('./data/train.csv', index_col=0)\n",
    "test = pd.read_csv('./data/test.csv', index_col=0)"
   ]
  },
  {
   "cell_type": "code",
   "execution_count": 3,
   "id": "ec19396a-b5aa-41c0-8065-bb8bc3161847",
   "metadata": {},
   "outputs": [
    {
     "name": "stdout",
     "output_type": "stream",
     "text": [
      "<class 'pandas.core.frame.DataFrame'>\n",
      "Index: 11504798 entries, 0 to 11504797\n",
      "Data columns (total 11 columns):\n",
      " #   Column                Dtype  \n",
      "---  ------                -----  \n",
      " 0   Gender                object \n",
      " 1   Age                   int64  \n",
      " 2   Driving_License       int64  \n",
      " 3   Region_Code           float64\n",
      " 4   Previously_Insured    int64  \n",
      " 5   Vehicle_Age           object \n",
      " 6   Vehicle_Damage        object \n",
      " 7   Annual_Premium        float64\n",
      " 8   Policy_Sales_Channel  float64\n",
      " 9   Vintage               int64  \n",
      " 10  Response              int64  \n",
      "dtypes: float64(3), int64(5), object(3)\n",
      "memory usage: 2.8 GB\n"
     ]
    }
   ],
   "source": [
    "train.info(memory_usage='deep')"
   ]
  },
  {
   "cell_type": "code",
   "execution_count": 4,
   "id": "c53ca405-3086-483f-8476-8cd7491b0107",
   "metadata": {},
   "outputs": [
    {
     "name": "stdout",
     "output_type": "stream",
     "text": [
      "<class 'pandas.core.frame.DataFrame'>\n",
      "Index: 7669866 entries, 11504798 to 19174663\n",
      "Data columns (total 10 columns):\n",
      " #   Column                Dtype  \n",
      "---  ------                -----  \n",
      " 0   Gender                object \n",
      " 1   Age                   int64  \n",
      " 2   Driving_License       int64  \n",
      " 3   Region_Code           float64\n",
      " 4   Previously_Insured    int64  \n",
      " 5   Vehicle_Age           object \n",
      " 6   Vehicle_Damage        object \n",
      " 7   Annual_Premium        float64\n",
      " 8   Policy_Sales_Channel  float64\n",
      " 9   Vintage               int64  \n",
      "dtypes: float64(3), int64(4), object(3)\n",
      "memory usage: 1.8 GB\n"
     ]
    }
   ],
   "source": [
    "test.info(memory_usage='deep')"
   ]
  },
  {
   "cell_type": "code",
   "execution_count": 5,
   "id": "cc58a9e9-eb6a-42b6-8146-d3001f2df375",
   "metadata": {},
   "outputs": [
    {
     "data": {
      "text/html": [
       "<div>\n",
       "<style scoped>\n",
       "    .dataframe tbody tr th:only-of-type {\n",
       "        vertical-align: middle;\n",
       "    }\n",
       "\n",
       "    .dataframe tbody tr th {\n",
       "        vertical-align: top;\n",
       "    }\n",
       "\n",
       "    .dataframe thead th {\n",
       "        text-align: right;\n",
       "    }\n",
       "</style>\n",
       "<table border=\"1\" class=\"dataframe\">\n",
       "  <thead>\n",
       "    <tr style=\"text-align: right;\">\n",
       "      <th></th>\n",
       "      <th>count</th>\n",
       "      <th>mean</th>\n",
       "      <th>std</th>\n",
       "      <th>min</th>\n",
       "      <th>25%</th>\n",
       "      <th>50%</th>\n",
       "      <th>75%</th>\n",
       "      <th>max</th>\n",
       "    </tr>\n",
       "  </thead>\n",
       "  <tbody>\n",
       "    <tr>\n",
       "      <th>Age</th>\n",
       "      <td>11504798.0</td>\n",
       "      <td>38.383563</td>\n",
       "      <td>14.993459</td>\n",
       "      <td>20.0</td>\n",
       "      <td>24.0</td>\n",
       "      <td>36.0</td>\n",
       "      <td>49.0</td>\n",
       "      <td>85.0</td>\n",
       "    </tr>\n",
       "    <tr>\n",
       "      <th>Driving_License</th>\n",
       "      <td>11504798.0</td>\n",
       "      <td>0.998022</td>\n",
       "      <td>0.044431</td>\n",
       "      <td>0.0</td>\n",
       "      <td>1.0</td>\n",
       "      <td>1.0</td>\n",
       "      <td>1.0</td>\n",
       "      <td>1.0</td>\n",
       "    </tr>\n",
       "    <tr>\n",
       "      <th>Region_Code</th>\n",
       "      <td>11504798.0</td>\n",
       "      <td>26.418690</td>\n",
       "      <td>12.991590</td>\n",
       "      <td>0.0</td>\n",
       "      <td>15.0</td>\n",
       "      <td>28.0</td>\n",
       "      <td>35.0</td>\n",
       "      <td>52.0</td>\n",
       "    </tr>\n",
       "    <tr>\n",
       "      <th>Previously_Insured</th>\n",
       "      <td>11504798.0</td>\n",
       "      <td>0.462997</td>\n",
       "      <td>0.498629</td>\n",
       "      <td>0.0</td>\n",
       "      <td>0.0</td>\n",
       "      <td>0.0</td>\n",
       "      <td>1.0</td>\n",
       "      <td>1.0</td>\n",
       "    </tr>\n",
       "    <tr>\n",
       "      <th>Annual_Premium</th>\n",
       "      <td>11504798.0</td>\n",
       "      <td>30461.370411</td>\n",
       "      <td>16454.745205</td>\n",
       "      <td>2630.0</td>\n",
       "      <td>25277.0</td>\n",
       "      <td>31824.0</td>\n",
       "      <td>39451.0</td>\n",
       "      <td>540165.0</td>\n",
       "    </tr>\n",
       "    <tr>\n",
       "      <th>Policy_Sales_Channel</th>\n",
       "      <td>11504798.0</td>\n",
       "      <td>112.425442</td>\n",
       "      <td>54.035708</td>\n",
       "      <td>1.0</td>\n",
       "      <td>29.0</td>\n",
       "      <td>151.0</td>\n",
       "      <td>152.0</td>\n",
       "      <td>163.0</td>\n",
       "    </tr>\n",
       "    <tr>\n",
       "      <th>Vintage</th>\n",
       "      <td>11504798.0</td>\n",
       "      <td>163.897744</td>\n",
       "      <td>79.979531</td>\n",
       "      <td>10.0</td>\n",
       "      <td>99.0</td>\n",
       "      <td>166.0</td>\n",
       "      <td>232.0</td>\n",
       "      <td>299.0</td>\n",
       "    </tr>\n",
       "    <tr>\n",
       "      <th>Response</th>\n",
       "      <td>11504798.0</td>\n",
       "      <td>0.122997</td>\n",
       "      <td>0.328434</td>\n",
       "      <td>0.0</td>\n",
       "      <td>0.0</td>\n",
       "      <td>0.0</td>\n",
       "      <td>0.0</td>\n",
       "      <td>1.0</td>\n",
       "    </tr>\n",
       "  </tbody>\n",
       "</table>\n",
       "</div>"
      ],
      "text/plain": [
       "                           count          mean           std     min      25%  \\\n",
       "Age                   11504798.0     38.383563     14.993459    20.0     24.0   \n",
       "Driving_License       11504798.0      0.998022      0.044431     0.0      1.0   \n",
       "Region_Code           11504798.0     26.418690     12.991590     0.0     15.0   \n",
       "Previously_Insured    11504798.0      0.462997      0.498629     0.0      0.0   \n",
       "Annual_Premium        11504798.0  30461.370411  16454.745205  2630.0  25277.0   \n",
       "Policy_Sales_Channel  11504798.0    112.425442     54.035708     1.0     29.0   \n",
       "Vintage               11504798.0    163.897744     79.979531    10.0     99.0   \n",
       "Response              11504798.0      0.122997      0.328434     0.0      0.0   \n",
       "\n",
       "                          50%      75%       max  \n",
       "Age                      36.0     49.0      85.0  \n",
       "Driving_License           1.0      1.0       1.0  \n",
       "Region_Code              28.0     35.0      52.0  \n",
       "Previously_Insured        0.0      1.0       1.0  \n",
       "Annual_Premium        31824.0  39451.0  540165.0  \n",
       "Policy_Sales_Channel    151.0    152.0     163.0  \n",
       "Vintage                 166.0    232.0     299.0  \n",
       "Response                  0.0      0.0       1.0  "
      ]
     },
     "execution_count": 5,
     "metadata": {},
     "output_type": "execute_result"
    }
   ],
   "source": [
    "train.describe().T"
   ]
  },
  {
   "cell_type": "markdown",
   "id": "6f72a938-2ad2-49af-83ce-66da985b9d1e",
   "metadata": {},
   "source": [
    "# Memory Optimization Strategy\r\n",
    "\r\n",
    "We implement a function to convert data types to more memory-efficient alternatives. We are going to follow the following list about datatypes with Pandas in order to avoid data loss:\r\n",
    "\r\n",
    "- `int8`: Ranges from -128 to 127.\r\n",
    "- `int16`: Ranges from -32,768 to 32,767.\r\n",
    "- `int32`: Ranges from -2,147,483,648 to 2,147,483,647.\r\n",
    "- `int64`: Ranges from -9,223,372,036,854,775,808 to 9,223,372,036,854,775,807.\r\n",
    "- `float16` (Half-precision): Approximate decimal precision of 3 to 4 decimal digits.\r\n",
    "- `float32` (Single-precision): Approximate decimal precision of 7 to 9 decimal digits.\r\n",
    "- `float64` (Double-precision): Approximate decimal precision of 15 to 17 deciml digits.\r\n",
    "l digits."
   ]
  },
  {
   "cell_type": "code",
   "execution_count": 6,
   "id": "12c9d0c0-e808-4808-945a-917da3351987",
   "metadata": {},
   "outputs": [],
   "source": [
    "def converting_datatypes(df):\n",
    "    df = df.copy()\n",
    "    try:\n",
    "        # Converting data types\n",
    "        df['Gender'] = df['Gender'].astype('category')\n",
    "        df['Vehicle_Age'] = df['Vehicle_Age'].astype('category')\n",
    "        df['Vehicle_Damage'] = df['Vehicle_Damage'].astype('category')\n",
    "        df['Age'] = df['Age'].astype('int8')\n",
    "        df['Driving_License'] = df['Driving_License'].astype('int8')\n",
    "        df['Region_Code'] = df['Region_Code'].astype('int8')\n",
    "        df['Previously_Insured'] = df['Previously_Insured'].astype('int8')\n",
    "        df['Annual_Premium'] = df['Annual_Premium'].astype('int32')\n",
    "        df['Policy_Sales_Channel'] = df['Policy_Sales_Channel'].astype('int16')\n",
    "        df['Vintage'] = df['Vintage'].astype('int16')\n",
    "        df['Response'] = df['Response'].astype('int8')\n",
    "        print(df.info(memory_usage='deep'))\n",
    "    except KeyError as e:\n",
    "        print(f\"Error: {e} not found in DataFrame\")\n",
    "    except Exception as e:\n",
    "        print(f\"An error occurred: {e}\")\n",
    "    return df"
   ]
  },
  {
   "cell_type": "code",
   "execution_count": 7,
   "id": "9be9e7f8-e2ff-4b7e-8e0a-a2e4acd8f776",
   "metadata": {},
   "outputs": [
    {
     "name": "stdout",
     "output_type": "stream",
     "text": [
      "<class 'pandas.core.frame.DataFrame'>\n",
      "Index: 11504798 entries, 0 to 11504797\n",
      "Data columns (total 11 columns):\n",
      " #   Column                Dtype   \n",
      "---  ------                -----   \n",
      " 0   Gender                category\n",
      " 1   Age                   int8    \n",
      " 2   Driving_License       int8    \n",
      " 3   Region_Code           int8    \n",
      " 4   Previously_Insured    int8    \n",
      " 5   Vehicle_Age           category\n",
      " 6   Vehicle_Damage        category\n",
      " 7   Annual_Premium        int32   \n",
      " 8   Policy_Sales_Channel  int16   \n",
      " 9   Vintage               int16   \n",
      " 10  Response              int8    \n",
      "dtypes: category(3), int16(2), int32(1), int8(5)\n",
      "memory usage: 263.3 MB\n",
      "None\n"
     ]
    }
   ],
   "source": [
    "train = converting_datatypes(train)"
   ]
  },
  {
   "cell_type": "code",
   "execution_count": 8,
   "id": "9c58d2b0-59d5-40cc-974c-b7b093c845b9",
   "metadata": {},
   "outputs": [
    {
     "name": "stdout",
     "output_type": "stream",
     "text": [
      "Error: 'Response' not found in DataFrame\n"
     ]
    }
   ],
   "source": [
    "test = converting_datatypes(test)"
   ]
  },
  {
   "cell_type": "code",
   "execution_count": 9,
   "id": "f89c10e4-dec2-4cf5-9e6a-48bfd51e8528",
   "metadata": {},
   "outputs": [
    {
     "name": "stdout",
     "output_type": "stream",
     "text": [
      "<class 'pandas.core.frame.DataFrame'>\n",
      "Index: 7669866 entries, 11504798 to 19174663\n",
      "Data columns (total 10 columns):\n",
      " #   Column                Dtype   \n",
      "---  ------                -----   \n",
      " 0   Gender                category\n",
      " 1   Age                   int8    \n",
      " 2   Driving_License       int8    \n",
      " 3   Region_Code           int8    \n",
      " 4   Previously_Insured    int8    \n",
      " 5   Vehicle_Age           category\n",
      " 6   Vehicle_Damage        category\n",
      " 7   Annual_Premium        int32   \n",
      " 8   Policy_Sales_Channel  int16   \n",
      " 9   Vintage               int16   \n",
      "dtypes: category(3), int16(2), int32(1), int8(4)\n",
      "memory usage: 168.2 MB\n"
     ]
    }
   ],
   "source": [
    "test.info(memory_usage='deep')"
   ]
  },
  {
   "cell_type": "code",
   "execution_count": 10,
   "id": "816c0acd-a072-43db-8ded-26fb9359ead3",
   "metadata": {
    "scrolled": true
   },
   "outputs": [
    {
     "ename": "KeyboardInterrupt",
     "evalue": "",
     "output_type": "error",
     "traceback": [
      "\u001b[1;31m---------------------------------------------------------------------------\u001b[0m",
      "\u001b[1;31mKeyboardInterrupt\u001b[0m                         Traceback (most recent call last)",
      "Cell \u001b[1;32mIn[10], line 2\u001b[0m\n\u001b[0;32m      1\u001b[0m \u001b[38;5;66;03m# Save files as parquet for faster loading\u001b[39;00m\n\u001b[1;32m----> 2\u001b[0m \u001b[43mtrain\u001b[49m\u001b[38;5;241;43m.\u001b[39;49m\u001b[43mto_parquet\u001b[49m\u001b[43m(\u001b[49m\u001b[38;5;124;43m'\u001b[39;49m\u001b[38;5;124;43m./data/train.parquet\u001b[39;49m\u001b[38;5;124;43m'\u001b[39;49m\u001b[43m)\u001b[49m\n\u001b[0;32m      3\u001b[0m test\u001b[38;5;241m.\u001b[39mto_parquet(\u001b[38;5;124m'\u001b[39m\u001b[38;5;124m./data/test.parquet\u001b[39m\u001b[38;5;124m'\u001b[39m)\n",
      "File \u001b[1;32mC:\\Anaconda3\\envs\\py3.9\\lib\\site-packages\\pandas\\util\\_decorators.py:333\u001b[0m, in \u001b[0;36mdeprecate_nonkeyword_arguments.<locals>.decorate.<locals>.wrapper\u001b[1;34m(*args, **kwargs)\u001b[0m\n\u001b[0;32m    327\u001b[0m \u001b[38;5;28;01mif\u001b[39;00m \u001b[38;5;28mlen\u001b[39m(args) \u001b[38;5;241m>\u001b[39m num_allow_args:\n\u001b[0;32m    328\u001b[0m     warnings\u001b[38;5;241m.\u001b[39mwarn(\n\u001b[0;32m    329\u001b[0m         msg\u001b[38;5;241m.\u001b[39mformat(arguments\u001b[38;5;241m=\u001b[39m_format_argument_list(allow_args)),\n\u001b[0;32m    330\u001b[0m         \u001b[38;5;167;01mFutureWarning\u001b[39;00m,\n\u001b[0;32m    331\u001b[0m         stacklevel\u001b[38;5;241m=\u001b[39mfind_stack_level(),\n\u001b[0;32m    332\u001b[0m     )\n\u001b[1;32m--> 333\u001b[0m \u001b[38;5;28;01mreturn\u001b[39;00m func(\u001b[38;5;241m*\u001b[39margs, \u001b[38;5;241m*\u001b[39m\u001b[38;5;241m*\u001b[39mkwargs)\n",
      "File \u001b[1;32mC:\\Anaconda3\\envs\\py3.9\\lib\\site-packages\\pandas\\core\\frame.py:3113\u001b[0m, in \u001b[0;36mDataFrame.to_parquet\u001b[1;34m(self, path, engine, compression, index, partition_cols, storage_options, **kwargs)\u001b[0m\n\u001b[0;32m   3032\u001b[0m \u001b[38;5;250m\u001b[39m\u001b[38;5;124;03m\"\"\"\u001b[39;00m\n\u001b[0;32m   3033\u001b[0m \u001b[38;5;124;03mWrite a DataFrame to the binary parquet format.\u001b[39;00m\n\u001b[0;32m   3034\u001b[0m \n\u001b[1;32m   (...)\u001b[0m\n\u001b[0;32m   3109\u001b[0m \u001b[38;5;124;03m>>> content = f.read()\u001b[39;00m\n\u001b[0;32m   3110\u001b[0m \u001b[38;5;124;03m\"\"\"\u001b[39;00m\n\u001b[0;32m   3111\u001b[0m \u001b[38;5;28;01mfrom\u001b[39;00m \u001b[38;5;21;01mpandas\u001b[39;00m\u001b[38;5;21;01m.\u001b[39;00m\u001b[38;5;21;01mio\u001b[39;00m\u001b[38;5;21;01m.\u001b[39;00m\u001b[38;5;21;01mparquet\u001b[39;00m \u001b[38;5;28;01mimport\u001b[39;00m to_parquet\n\u001b[1;32m-> 3113\u001b[0m \u001b[38;5;28;01mreturn\u001b[39;00m to_parquet(\n\u001b[0;32m   3114\u001b[0m     \u001b[38;5;28mself\u001b[39m,\n\u001b[0;32m   3115\u001b[0m     path,\n\u001b[0;32m   3116\u001b[0m     engine,\n\u001b[0;32m   3117\u001b[0m     compression\u001b[38;5;241m=\u001b[39mcompression,\n\u001b[0;32m   3118\u001b[0m     index\u001b[38;5;241m=\u001b[39mindex,\n\u001b[0;32m   3119\u001b[0m     partition_cols\u001b[38;5;241m=\u001b[39mpartition_cols,\n\u001b[0;32m   3120\u001b[0m     storage_options\u001b[38;5;241m=\u001b[39mstorage_options,\n\u001b[0;32m   3121\u001b[0m     \u001b[38;5;241m*\u001b[39m\u001b[38;5;241m*\u001b[39mkwargs,\n\u001b[0;32m   3122\u001b[0m )\n",
      "File \u001b[1;32mC:\\Anaconda3\\envs\\py3.9\\lib\\site-packages\\pandas\\io\\parquet.py:480\u001b[0m, in \u001b[0;36mto_parquet\u001b[1;34m(df, path, engine, compression, index, storage_options, partition_cols, filesystem, **kwargs)\u001b[0m\n\u001b[0;32m    476\u001b[0m impl \u001b[38;5;241m=\u001b[39m get_engine(engine)\n\u001b[0;32m    478\u001b[0m path_or_buf: FilePath \u001b[38;5;241m|\u001b[39m WriteBuffer[\u001b[38;5;28mbytes\u001b[39m] \u001b[38;5;241m=\u001b[39m io\u001b[38;5;241m.\u001b[39mBytesIO() \u001b[38;5;28;01mif\u001b[39;00m path \u001b[38;5;129;01mis\u001b[39;00m \u001b[38;5;28;01mNone\u001b[39;00m \u001b[38;5;28;01melse\u001b[39;00m path\n\u001b[1;32m--> 480\u001b[0m impl\u001b[38;5;241m.\u001b[39mwrite(\n\u001b[0;32m    481\u001b[0m     df,\n\u001b[0;32m    482\u001b[0m     path_or_buf,\n\u001b[0;32m    483\u001b[0m     compression\u001b[38;5;241m=\u001b[39mcompression,\n\u001b[0;32m    484\u001b[0m     index\u001b[38;5;241m=\u001b[39mindex,\n\u001b[0;32m    485\u001b[0m     partition_cols\u001b[38;5;241m=\u001b[39mpartition_cols,\n\u001b[0;32m    486\u001b[0m     storage_options\u001b[38;5;241m=\u001b[39mstorage_options,\n\u001b[0;32m    487\u001b[0m     filesystem\u001b[38;5;241m=\u001b[39mfilesystem,\n\u001b[0;32m    488\u001b[0m     \u001b[38;5;241m*\u001b[39m\u001b[38;5;241m*\u001b[39mkwargs,\n\u001b[0;32m    489\u001b[0m )\n\u001b[0;32m    491\u001b[0m \u001b[38;5;28;01mif\u001b[39;00m path \u001b[38;5;129;01mis\u001b[39;00m \u001b[38;5;28;01mNone\u001b[39;00m:\n\u001b[0;32m    492\u001b[0m     \u001b[38;5;28;01massert\u001b[39;00m \u001b[38;5;28misinstance\u001b[39m(path_or_buf, io\u001b[38;5;241m.\u001b[39mBytesIO)\n",
      "File \u001b[1;32mC:\\Anaconda3\\envs\\py3.9\\lib\\site-packages\\pandas\\io\\parquet.py:228\u001b[0m, in \u001b[0;36mPyArrowImpl.write\u001b[1;34m(self, df, path, compression, index, storage_options, partition_cols, filesystem, **kwargs)\u001b[0m\n\u001b[0;32m    218\u001b[0m         \u001b[38;5;28mself\u001b[39m\u001b[38;5;241m.\u001b[39mapi\u001b[38;5;241m.\u001b[39mparquet\u001b[38;5;241m.\u001b[39mwrite_to_dataset(\n\u001b[0;32m    219\u001b[0m             table,\n\u001b[0;32m    220\u001b[0m             path_or_handle,\n\u001b[1;32m   (...)\u001b[0m\n\u001b[0;32m    224\u001b[0m             \u001b[38;5;241m*\u001b[39m\u001b[38;5;241m*\u001b[39mkwargs,\n\u001b[0;32m    225\u001b[0m         )\n\u001b[0;32m    226\u001b[0m     \u001b[38;5;28;01melse\u001b[39;00m:\n\u001b[0;32m    227\u001b[0m         \u001b[38;5;66;03m# write to single output file\u001b[39;00m\n\u001b[1;32m--> 228\u001b[0m         \u001b[38;5;28mself\u001b[39m\u001b[38;5;241m.\u001b[39mapi\u001b[38;5;241m.\u001b[39mparquet\u001b[38;5;241m.\u001b[39mwrite_table(\n\u001b[0;32m    229\u001b[0m             table,\n\u001b[0;32m    230\u001b[0m             path_or_handle,\n\u001b[0;32m    231\u001b[0m             compression\u001b[38;5;241m=\u001b[39mcompression,\n\u001b[0;32m    232\u001b[0m             filesystem\u001b[38;5;241m=\u001b[39mfilesystem,\n\u001b[0;32m    233\u001b[0m             \u001b[38;5;241m*\u001b[39m\u001b[38;5;241m*\u001b[39mkwargs,\n\u001b[0;32m    234\u001b[0m         )\n\u001b[0;32m    235\u001b[0m \u001b[38;5;28;01mfinally\u001b[39;00m:\n\u001b[0;32m    236\u001b[0m     \u001b[38;5;28;01mif\u001b[39;00m handles \u001b[38;5;129;01mis\u001b[39;00m \u001b[38;5;129;01mnot\u001b[39;00m \u001b[38;5;28;01mNone\u001b[39;00m:\n",
      "File \u001b[1;32mC:\\Anaconda3\\envs\\py3.9\\lib\\site-packages\\pyarrow\\parquet\\core.py:1894\u001b[0m, in \u001b[0;36mwrite_table\u001b[1;34m(table, where, row_group_size, version, use_dictionary, compression, write_statistics, use_deprecated_int96_timestamps, coerce_timestamps, allow_truncated_timestamps, data_page_size, flavor, filesystem, compression_level, use_byte_stream_split, column_encoding, data_page_version, use_compliant_nested_type, encryption_properties, write_batch_size, dictionary_pagesize_limit, store_schema, write_page_index, write_page_checksum, sorting_columns, **kwargs)\u001b[0m\n\u001b[0;32m   1868\u001b[0m \u001b[38;5;28;01mtry\u001b[39;00m:\n\u001b[0;32m   1869\u001b[0m     \u001b[38;5;28;01mwith\u001b[39;00m ParquetWriter(\n\u001b[0;32m   1870\u001b[0m             where, table\u001b[38;5;241m.\u001b[39mschema,\n\u001b[0;32m   1871\u001b[0m             filesystem\u001b[38;5;241m=\u001b[39mfilesystem,\n\u001b[1;32m   (...)\u001b[0m\n\u001b[0;32m   1892\u001b[0m             sorting_columns\u001b[38;5;241m=\u001b[39msorting_columns,\n\u001b[0;32m   1893\u001b[0m             \u001b[38;5;241m*\u001b[39m\u001b[38;5;241m*\u001b[39mkwargs) \u001b[38;5;28;01mas\u001b[39;00m writer:\n\u001b[1;32m-> 1894\u001b[0m         \u001b[43mwriter\u001b[49m\u001b[38;5;241;43m.\u001b[39;49m\u001b[43mwrite_table\u001b[49m\u001b[43m(\u001b[49m\u001b[43mtable\u001b[49m\u001b[43m,\u001b[49m\u001b[43m \u001b[49m\u001b[43mrow_group_size\u001b[49m\u001b[38;5;241;43m=\u001b[39;49m\u001b[43mrow_group_size\u001b[49m\u001b[43m)\u001b[49m\n\u001b[0;32m   1895\u001b[0m \u001b[38;5;28;01mexcept\u001b[39;00m \u001b[38;5;167;01mException\u001b[39;00m:\n\u001b[0;32m   1896\u001b[0m     \u001b[38;5;28;01mif\u001b[39;00m _is_path_like(where):\n",
      "File \u001b[1;32mC:\\Anaconda3\\envs\\py3.9\\lib\\site-packages\\pyarrow\\parquet\\core.py:1096\u001b[0m, in \u001b[0;36mParquetWriter.write_table\u001b[1;34m(self, table, row_group_size)\u001b[0m\n\u001b[0;32m   1091\u001b[0m     msg \u001b[38;5;241m=\u001b[39m (\u001b[38;5;124m'\u001b[39m\u001b[38;5;124mTable schema does not match schema used to create file: \u001b[39m\u001b[38;5;124m'\u001b[39m\n\u001b[0;32m   1092\u001b[0m            \u001b[38;5;124m'\u001b[39m\u001b[38;5;130;01m\\n\u001b[39;00m\u001b[38;5;124mtable:\u001b[39m\u001b[38;5;130;01m\\n\u001b[39;00m\u001b[38;5;132;01m{!s}\u001b[39;00m\u001b[38;5;124m vs. \u001b[39m\u001b[38;5;130;01m\\n\u001b[39;00m\u001b[38;5;124mfile:\u001b[39m\u001b[38;5;130;01m\\n\u001b[39;00m\u001b[38;5;132;01m{!s}\u001b[39;00m\u001b[38;5;124m'\u001b[39m\n\u001b[0;32m   1093\u001b[0m            \u001b[38;5;241m.\u001b[39mformat(table\u001b[38;5;241m.\u001b[39mschema, \u001b[38;5;28mself\u001b[39m\u001b[38;5;241m.\u001b[39mschema))\n\u001b[0;32m   1094\u001b[0m     \u001b[38;5;28;01mraise\u001b[39;00m \u001b[38;5;167;01mValueError\u001b[39;00m(msg)\n\u001b[1;32m-> 1096\u001b[0m \u001b[38;5;28;43mself\u001b[39;49m\u001b[38;5;241;43m.\u001b[39;49m\u001b[43mwriter\u001b[49m\u001b[38;5;241;43m.\u001b[39;49m\u001b[43mwrite_table\u001b[49m\u001b[43m(\u001b[49m\u001b[43mtable\u001b[49m\u001b[43m,\u001b[49m\u001b[43m \u001b[49m\u001b[43mrow_group_size\u001b[49m\u001b[38;5;241;43m=\u001b[39;49m\u001b[43mrow_group_size\u001b[49m\u001b[43m)\u001b[49m\n",
      "\u001b[1;31mKeyboardInterrupt\u001b[0m: "
     ]
    }
   ],
   "source": [
    "# Save files as parquet for faster loading\n",
    "train.to_parquet('./data/train.parquet')\n",
    "test.to_parquet('./data/test.parquet')"
   ]
  },
  {
   "cell_type": "code",
   "execution_count": 11,
   "id": "29094ce3-1570-4095-a81b-70557f673d83",
   "metadata": {},
   "outputs": [
    {
     "name": "stdout",
     "output_type": "stream",
     "text": [
      "<class 'pandas.core.frame.DataFrame'>\n",
      "Index: 2830118 entries, 6926847 to 11504796\n",
      "Data columns (total 11 columns):\n",
      " #   Column                Dtype   \n",
      "---  ------                -----   \n",
      " 0   Gender                category\n",
      " 1   Age                   int8    \n",
      " 2   Driving_License       int8    \n",
      " 3   Region_Code           int8    \n",
      " 4   Previously_Insured    int8    \n",
      " 5   Vehicle_Age           category\n",
      " 6   Vehicle_Damage        category\n",
      " 7   Annual_Premium        int32   \n",
      " 8   Policy_Sales_Channel  int16   \n",
      " 9   Vintage               int16   \n",
      " 10  Response              int8    \n",
      "dtypes: category(3), int16(2), int32(1), int8(5)\n",
      "memory usage: 64.8 MB\n",
      "None\n"
     ]
    }
   ],
   "source": [
    "# convert other files\n",
    "df = pd.read_csv('./data/sub_train.csv', index_col=0)\n",
    "\n",
    "df = converting_datatypes(df)\n",
    "df.to_parquet('./data/sub_train.parquet')"
   ]
  },
  {
   "cell_type": "code",
   "execution_count": null,
   "id": "6e9995bb-f846-4eaa-9e24-b041d053f7e2",
   "metadata": {},
   "outputs": [],
   "source": []
  }
 ],
 "metadata": {
  "kernelspec": {
   "display_name": "Python 3 (ipykernel)",
   "language": "python",
   "name": "python3"
  },
  "language_info": {
   "codemirror_mode": {
    "name": "ipython",
    "version": 3
   },
   "file_extension": ".py",
   "mimetype": "text/x-python",
   "name": "python",
   "nbconvert_exporter": "python",
   "pygments_lexer": "ipython3",
   "version": "3.9.12"
  }
 },
 "nbformat": 4,
 "nbformat_minor": 5
}
